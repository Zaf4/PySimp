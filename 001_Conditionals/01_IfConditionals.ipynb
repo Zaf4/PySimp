{
 "cells": [
  {
   "cell_type": "markdown",
   "metadata": {},
   "source": [
    "# If conditionals"
   ]
  },
  {
   "cell_type": "markdown",
   "metadata": {},
   "source": [
    "## If"
   ]
  },
  {
   "cell_type": "markdown",
   "metadata": {},
   "source": [
    "`if` keyword in Python let the interpreter **run** a piece of code **codeblock** when a requirement satisfied. This lets the program control the workflow depending on the previous results or inputs."
   ]
  },
  {
   "cell_type": "code",
   "execution_count": 1,
   "metadata": {},
   "outputs": [],
   "source": [
    "input = 12 # just for simplicity\n",
    "input2 = 17 # just for simplicity again"
   ]
  },
  {
   "cell_type": "markdown",
   "metadata": {},
   "source": [
    "we will compare these input with the expected input."
   ]
  },
  {
   "cell_type": "markdown",
   "metadata": {},
   "source": [
    "an `if` block starts with an `if` followed by a comparison. This first line must end with an `:`. the next line and any line within the `if` block should have a *tab* (by convention 4 spaces) distance from the line start."
   ]
  },
  {
   "cell_type": "code",
   "execution_count": 2,
   "metadata": {},
   "outputs": [
    {
     "name": "stdout",
     "output_type": "stream",
     "text": [
      "Hello World!\n"
     ]
    }
   ],
   "source": [
    "if input == 12:\n",
    "    print(\"Hello World!\")"
   ]
  },
  {
   "cell_type": "code",
   "execution_count": 3,
   "metadata": {},
   "outputs": [],
   "source": [
    "if input2 == 12: # input2 is not 12, so this will not print anything\n",
    "    print(\"Hello World!\")"
   ]
  },
  {
   "cell_type": "markdown",
   "metadata": {},
   "source": [
    "## Elif"
   ]
  },
  {
   "cell_type": "markdown",
   "metadata": {},
   "source": [
    "When we want to test for another set of conditions, we can use `elif` (short for else if).  "
   ]
  },
  {
   "cell_type": "code",
   "execution_count": 4,
   "metadata": {},
   "outputs": [
    {
     "name": "stdout",
     "output_type": "stream",
     "text": [
      "Hello World but 17!\n"
     ]
    }
   ],
   "source": [
    "if input2 == 12:\n",
    "    print(\"Hello World!\")\n",
    "elif input2 == 13:\n",
    "    print(\"Hello World but 13!\")\n",
    "elif input2 == 15:\n",
    "    print(\"Hello World but 15!\")\n",
    "elif input2 == 17: # only this will print\n",
    "    print(\"Hello World but 17!\")"
   ]
  },
  {
   "cell_type": "markdown",
   "metadata": {},
   "source": [
    "## Else"
   ]
  },
  {
   "cell_type": "markdown",
   "metadata": {},
   "source": [
    "When you want to execute a piece of code when no other condition is satisfied you can simply use `else`."
   ]
  },
  {
   "cell_type": "code",
   "execution_count": 5,
   "metadata": {},
   "outputs": [
    {
     "name": "stdout",
     "output_type": "stream",
     "text": [
      "Hello World but no prior conditions satisfied!\n"
     ]
    }
   ],
   "source": [
    "if input2 == 12: \n",
    "    print(\"Hello World!\")\n",
    "elif input2 == 13:\n",
    "    print(\"Hello World but 13!\")\n",
    "else: # only this will print\n",
    "    print(\"Hello World but no prior conditions satisfied!\")"
   ]
  },
  {
   "cell_type": "markdown",
   "metadata": {},
   "source": [
    "## Chaining Conditions"
   ]
  },
  {
   "cell_type": "markdown",
   "metadata": {},
   "source": [
    "It is possible to chain conditions with `and` and `or`."
   ]
  },
  {
   "cell_type": "code",
   "execution_count": 6,
   "metadata": {},
   "outputs": [
    {
     "name": "stdout",
     "output_type": "stream",
     "text": [
      "Hello World! Both conditions satisfied!\n"
     ]
    }
   ],
   "source": [
    "if input == 12 and input2 == 17: # both conditions must be true\n",
    "    print(\"Hello World! Both conditions satisfied!\")"
   ]
  },
  {
   "cell_type": "markdown",
   "metadata": {},
   "source": [
    "Another example with `or`"
   ]
  },
  {
   "cell_type": "code",
   "execution_count": 7,
   "metadata": {},
   "outputs": [
    {
     "name": "stdout",
     "output_type": "stream",
     "text": [
      "Hello World! One or both conditions satisfied!\n"
     ]
    }
   ],
   "source": [
    "if input == 17 or input2 == 17: # only second condition is True\n",
    "    print(\"Hello World! One or both conditions satisfied!\")"
   ]
  }
 ],
 "metadata": {
  "kernelspec": {
   "display_name": "Python 3",
   "language": "python",
   "name": "python3"
  },
  "language_info": {
   "codemirror_mode": {
    "name": "ipython",
    "version": 3
   },
   "file_extension": ".py",
   "mimetype": "text/x-python",
   "name": "python",
   "nbconvert_exporter": "python",
   "pygments_lexer": "ipython3",
   "version": "3.11.4"
  }
 },
 "nbformat": 4,
 "nbformat_minor": 2
}
