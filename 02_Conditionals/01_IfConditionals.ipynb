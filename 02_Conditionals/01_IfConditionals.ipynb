{
 "cells": [
  {
   "cell_type": "markdown",
   "metadata": {},
   "source": [
    "# If conditionals"
   ]
  },
  {
   "cell_type": "markdown",
   "metadata": {},
   "source": [
    "## If"
   ]
  },
  {
   "cell_type": "markdown",
   "metadata": {},
   "source": [
    "`if` keyword in Python let the interpreter **run** a piece of code **codeblock** when a requirement satisfied. This lets the program control the workflow depending on the previous results or inputs."
   ]
  },
  {
   "cell_type": "code",
   "execution_count": 1,
   "metadata": {},
   "outputs": [],
   "source": [
    "input = 12 # just for simplicity\n",
    "input2 = 17 # just for simplicity again"
   ]
  },
  {
   "cell_type": "markdown",
   "metadata": {},
   "source": [
    "we will compare these input with the expected input."
   ]
  },
  {
   "cell_type": "markdown",
   "metadata": {},
   "source": [
    "an `if` block starts with an `if` followed by a comparison. This first line must end with an `:`. the next line and any line within the `if` block should have a *tab* (by convention 4 spaces) distance from the line start."
   ]
  },
  {
   "cell_type": "code",
   "execution_count": 2,
   "metadata": {},
   "outputs": [
    {
     "name": "stdout",
     "output_type": "stream",
     "text": [
      "Hello World!\n"
     ]
    }
   ],
   "source": [
    "if input == 12:\n",
    "    print(\"Hello World!\")"
   ]
  },
  {
   "cell_type": "code",
   "execution_count": 3,
   "metadata": {},
   "outputs": [],
   "source": [
    "if input2 == 12: # input2 is not 12, so this will not print anything\n",
    "    print(\"Hello World!\")"
   ]
  },
  {
   "cell_type": "markdown",
   "metadata": {},
   "source": [
    "## Elif"
   ]
  },
  {
   "cell_type": "markdown",
   "metadata": {},
   "source": [
    "When we want to test for another set of conditions, we can use `elif` (short for else if).  "
   ]
  },
  {
   "cell_type": "code",
   "execution_count": 4,
   "metadata": {},
   "outputs": [
    {
     "name": "stdout",
     "output_type": "stream",
     "text": [
      "Hello World but 17!\n"
     ]
    }
   ],
   "source": [
    "if input2 == 12:\n",
    "    print(\"Hello World!\")\n",
    "elif input2 == 13:\n",
    "    print(\"Hello World but 13!\")\n",
    "elif input2 == 15:\n",
    "    print(\"Hello World but 15!\")\n",
    "elif input2 == 17: # only this will print\n",
    "    print(\"Hello World but 17!\")"
   ]
  },
  {
   "cell_type": "markdown",
   "metadata": {},
   "source": [
    "## Else"
   ]
  },
  {
   "cell_type": "markdown",
   "metadata": {},
   "source": [
    "When you want to execute a piece of code when no other condition is satisfied you can simply use `else`."
   ]
  },
  {
   "cell_type": "code",
   "execution_count": 5,
   "metadata": {},
   "outputs": [
    {
     "name": "stdout",
     "output_type": "stream",
     "text": [
      "Hello World but no prior conditions satisfied!\n"
     ]
    }
   ],
   "source": [
    "if input2 == 12: \n",
    "    print(\"Hello World!\")\n",
    "elif input2 == 13:\n",
    "    print(\"Hello World but 13!\")\n",
    "else: # only this will print\n",
    "    print(\"Hello World but no prior conditions satisfied!\")"
   ]
  },
  {
   "cell_type": "markdown",
   "metadata": {},
   "source": [
    "## Chaining Conditions"
   ]
  },
  {
   "cell_type": "markdown",
   "metadata": {},
   "source": [
    "It is possible to chain conditions with `and` and `or`."
   ]
  },
  {
   "cell_type": "code",
   "execution_count": 6,
   "metadata": {},
   "outputs": [
    {
     "name": "stdout",
     "output_type": "stream",
     "text": [
      "Hello World! Both conditions satisfied!\n"
     ]
    }
   ],
   "source": [
    "if input == 12 and input2 == 17: # both conditions must be true\n",
    "    print(\"Hello World! Both conditions satisfied!\")"
   ]
  },
  {
   "cell_type": "markdown",
   "metadata": {},
   "source": [
    "Another example with `or`"
   ]
  },
  {
   "cell_type": "code",
   "execution_count": 7,
   "metadata": {},
   "outputs": [
    {
     "name": "stdout",
     "output_type": "stream",
     "text": [
      "Hello World! One or both conditions satisfied!\n"
     ]
    }
   ],
   "source": [
    "if input == 17 or input2 == 17: # only second condition is True\n",
    "    print(\"Hello World! One or both conditions satisfied!\")"
   ]
  },
  {
   "cell_type": "markdown",
   "metadata": {},
   "source": [
    "## Nested Conditions"
   ]
  },
  {
   "cell_type": "markdown",
   "metadata": {},
   "source": [
    "An if-else code block can be inside another if-else block which can be inside another if-else block and so on. This modularity enables programmer to program complex workflow with their codes."
   ]
  },
  {
   "cell_type": "markdown",
   "metadata": {},
   "source": [
    "First, let's define an Arthur person for a follow up nested condition demonstration."
   ]
  },
  {
   "cell_type": "code",
   "execution_count": 8,
   "metadata": {},
   "outputs": [],
   "source": [
    "age_arthur = 23\n",
    "height_aurthur = 187\n",
    "weight_arthur = 88\n",
    "name_arthur = \"Arthur\"\n",
    "gender_arthur = \"male\"\n",
    "hobby_arthur = None\n",
    "royal_blood_index_arthur = 0.7\n",
    "is_arthur_king = False"
   ]
  },
  {
   "cell_type": "code",
   "execution_count": 9,
   "metadata": {},
   "outputs": [
    {
     "data": {
      "text/plain": [
       "False"
      ]
     },
     "execution_count": 9,
     "metadata": {},
     "output_type": "execute_result"
    }
   ],
   "source": [
    "is_arthur_king"
   ]
  },
  {
   "cell_type": "markdown",
   "metadata": {},
   "source": [
    "Now, let's see if we can crown him as the king..."
   ]
  },
  {
   "cell_type": "code",
   "execution_count": 10,
   "metadata": {},
   "outputs": [
    {
     "name": "stdout",
     "output_type": "stream",
     "text": [
      "Long live the King Arthur!\n"
     ]
    }
   ],
   "source": [
    "# if is_arthur_king == True is the same as below since is_arthur_king is already a boolean\n",
    "if is_arthur_king: \n",
    "    print(\"Arthur is already a king! Cannot crown him again!\")\n",
    "else:\n",
    "    if gender_arthur !=\"male\": # if he is not male\n",
    "        print(\"Cannot be a king without being male\")\n",
    "    else: # if he is male\n",
    "        if age_arthur < 18: # check if he is old enough\n",
    "            print(\"Cannot be a king without being old enough\")\n",
    "        else: # if he is old enough\n",
    "            if royal_blood_index_arthur < 0.5: # check if he has enough royal blood\n",
    "                print(\"Cannot be a king without enough royal blood\")\n",
    "            else: # if he has enough royal blood\n",
    "                if height_aurthur < 180 or weight_arthur < 80: # check if he is big enough\n",
    "                    print(\"Cannot be a king without being huge enough\")\n",
    "                else: # if he is tall and heavy enough\n",
    "                    if hobby_arthur is not None:\n",
    "                        print(\"Cannot be a king with a hobby, Kings don't have time for hobbies\")\n",
    "                    else:\n",
    "                        print(\"Long live the King Arthur!\")\n",
    "                        is_arthur_king = True # now he is a king and we can update his status\n",
    "\n",
    "                "
   ]
  },
  {
   "cell_type": "markdown",
   "metadata": {},
   "source": [
    "Now, let's see if Arthur is a King now! "
   ]
  },
  {
   "cell_type": "code",
   "execution_count": 11,
   "metadata": {},
   "outputs": [
    {
     "data": {
      "text/plain": [
       "True"
      ]
     },
     "execution_count": 11,
     "metadata": {},
     "output_type": "execute_result"
    }
   ],
   "source": [
    "is_arthur_king"
   ]
  },
  {
   "cell_type": "markdown",
   "metadata": {},
   "source": [
    "We used nested (one within another) if-else blocks to check multiple scenarios. This is of course a made up example and can be simplified with `and` and `or` operators. But for real life cases you may encounter a problem in which you will have to use nested conditions to control flow of logic."
   ]
  },
  {
   "cell_type": "markdown",
   "metadata": {},
   "source": [
    "With this we arrive to the conclusion we should crown him King and executed the command via the assigment\n",
    "`is_arthur_king = True`\n",
    "This assigment here is a simple command. But we could have much more complex operations or combinations of operations to execute."
   ]
  },
  {
   "cell_type": "markdown",
   "metadata": {},
   "source": []
  }
 ],
 "metadata": {
  "kernelspec": {
   "display_name": "Python 3",
   "language": "python",
   "name": "python3"
  },
  "language_info": {
   "codemirror_mode": {
    "name": "ipython",
    "version": 3
   },
   "file_extension": ".py",
   "mimetype": "text/x-python",
   "name": "python",
   "nbconvert_exporter": "python",
   "pygments_lexer": "ipython3",
   "version": "3.11.4"
  }
 },
 "nbformat": 4,
 "nbformat_minor": 2
}
