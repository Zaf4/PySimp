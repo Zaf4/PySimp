{
 "cells": [
  {
   "cell_type": "markdown",
   "metadata": {},
   "source": [
    "---\n",
    "title: Installing python\n",
    "author: Zafer Kosar\n",
    "format:\n",
    "    html:\n",
    "        code-fold: false\n",
    "---"
   ]
  },
  {
   "cell_type": "markdown",
   "metadata": {},
   "source": [
    "It is suggested use panultimate (one before the latest) major release of Python. Python 3 is now the golden standard and major releases follow 3.x.x convetion. So, if the latest release is **3.12.x**, use the **3.11.y**, y being the latest version, the reason being compatibility with 3rd party libraries takes some time. For this book, we will use Python 3.11.9."
   ]
  },
  {
   "cell_type": "markdown",
   "metadata": {},
   "source": [
    "## Windows"
   ]
  },
  {
   "cell_type": "markdown",
   "metadata": {},
   "source": [
    "On windows just go to https://www.python.org/downloads/ and scroll down to \n",
    "    \"Python releases by version number:\" section and select a version to download. And continue with the installation."
   ]
  },
  {
   "cell_type": "markdown",
   "metadata": {},
   "source": [
    "On the installation, click \"**Add python.exe to PATH**\" so you can use Python on your terminal."
   ]
  },
  {
   "cell_type": "markdown",
   "metadata": {},
   "source": [
    "## Mac"
   ]
  },
  {
   "cell_type": "markdown",
   "metadata": {},
   "source": [
    "On Mac just go to https://www.python.org/downloads/ and scroll down to \n",
    "    \"Python releases by version number:\" section and select a version to download. And continue with the installation."
   ]
  }
 ],
 "metadata": {
  "language_info": {
   "name": "python"
  }
 },
 "nbformat": 4,
 "nbformat_minor": 2
}
